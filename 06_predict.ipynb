{
 "cells": [
  {
   "cell_type": "code",
   "execution_count": 1,
   "id": "6698acbb",
   "metadata": {},
   "outputs": [],
   "source": [
    "import numpy as np\n",
    "import pandas as pd\n",
    "import matplotlib.pyplot as plt\n",
    "from statsmodels.tsa.arima.model import ARIMA"
   ]
  },
  {
   "cell_type": "code",
   "execution_count": 2,
   "id": "30a2802b",
   "metadata": {},
   "outputs": [],
   "source": [
    "Data = pd.read_csv('Datasets/Clean_data/Locality_Analyst.csv')"
   ]
  },
  {
   "cell_type": "code",
   "execution_count": 17,
   "id": "8a1bb434",
   "metadata": {},
   "outputs": [],
   "source": [
    "class ARIMAModel:\n",
    "    def __init__(self,region_name):\n",
    "        self.region = region_name\n",
    "        \n",
    "    def get_data(self):\n",
    "        if self.region == 'All': return Data[['Năm','Tổng dân số']]\n",
    "        return Data[Data['Vùng'] == self.region][['Năm','Tổng dân số']]\n",
    "    \n",
    "    def train_ARIMA_model(self,data_end_year,predict_year):\n",
    "        Series = self.get_data()\n",
    "        Series = Series.set_index('Năm')\n",
    "        model = ARIMA(Series,order=(1,1,1))\n",
    "        model_fit = model.fit()\n",
    "        forecast = model_fit.forecast(steps=predict_year-data_end_year)\n",
    "        forecast.index = range(Series.index.max() + 1, Series.index.max() + len(forecast) + 1)\n",
    "        self.Draw_predict(data_end_year,predict_year,Series,forecast)\n",
    "        return pd.DataFrame(forecast.values,columns=['y_pred']).to_csv(f'Result/Test_set/ARIMAModel/{self.region}_predict_result.csv')\n",
    "    \n",
    "    def Draw_predict(self,year,end_year,Series,Forecast):\n",
    "        plt.figure(figsize=(8,4))\n",
    "        plt.plot(Series.index,Series['Tổng dân số'],label='Thực tế',marker='o',linestyle = '-' )\n",
    "        plt.plot(Forecast.index,Forecast,label='Dự báo',marker='o',linestyle='--',color = 'red')\n",
    "        plt.title(f'Dự báo dân số {self.region} từ năm {year} - {end_year}')\n",
    "        plt.xticks(range(Series.index.min(),Forecast.index.max(),3))\n",
    "        plt.legend()\n",
    "        plt.savefig(f'Result/Test_set/ARIMAModel/Predict_plot/Dự báo dân số {self.region} từ năm {year} - {end_year}')\n",
    "        plt.close()"
   ]
  },
  {
   "cell_type": "code",
   "execution_count": 18,
   "id": "91932fff",
   "metadata": {},
   "outputs": [],
   "source": [
    "ARIMAModel = ARIMAModel('Hà Nội')"
   ]
  },
  {
   "cell_type": "code",
   "execution_count": null,
   "id": "2d9b68b9",
   "metadata": {},
   "outputs": [
    {
     "name": "stderr",
     "output_type": "stream",
     "text": [
      "C:\\Users\\Admin\\AppData\\Roaming\\Python\\Python312\\site-packages\\statsmodels\\tsa\\base\\tsa_model.py:473: ValueWarning: An unsupported index was provided. As a result, forecasts cannot be generated. To use the model for forecasting, use one of the supported classes of index.\n",
      "  self._init_dates(dates, freq)\n",
      "C:\\Users\\Admin\\AppData\\Roaming\\Python\\Python312\\site-packages\\statsmodels\\tsa\\base\\tsa_model.py:473: ValueWarning: An unsupported index was provided. As a result, forecasts cannot be generated. To use the model for forecasting, use one of the supported classes of index.\n",
      "  self._init_dates(dates, freq)\n",
      "C:\\Users\\Admin\\AppData\\Roaming\\Python\\Python312\\site-packages\\statsmodels\\tsa\\base\\tsa_model.py:473: ValueWarning: An unsupported index was provided. As a result, forecasts cannot be generated. To use the model for forecasting, use one of the supported classes of index.\n",
      "  self._init_dates(dates, freq)\n",
      "C:\\Users\\Admin\\AppData\\Roaming\\Python\\Python312\\site-packages\\statsmodels\\tsa\\base\\tsa_model.py:837: ValueWarning: No supported index is available. Prediction results will be given with an integer index beginning at `start`.\n",
      "  return get_prediction_index(\n",
      "C:\\Users\\Admin\\AppData\\Roaming\\Python\\Python312\\site-packages\\statsmodels\\tsa\\base\\tsa_model.py:837: FutureWarning: No supported index is available. In the next version, calling this method in a model without a supported index will result in an exception.\n",
      "  return get_prediction_index(\n"
     ]
    }
   ],
   "source": [
    "ARIMAModel.train_ARIMA_model(data_end_year=2024,predict_year=2030)"
   ]
  }
 ],
 "metadata": {
  "kernelspec": {
   "display_name": "Python 3",
   "language": "python",
   "name": "python3"
  },
  "language_info": {
   "codemirror_mode": {
    "name": "ipython",
    "version": 3
   },
   "file_extension": ".py",
   "mimetype": "text/x-python",
   "name": "python",
   "nbconvert_exporter": "python",
   "pygments_lexer": "ipython3",
   "version": "3.12.4"
  }
 },
 "nbformat": 4,
 "nbformat_minor": 5
}
