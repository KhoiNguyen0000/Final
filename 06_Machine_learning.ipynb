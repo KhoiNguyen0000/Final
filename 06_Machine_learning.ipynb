{
 "cells": [
  {
   "cell_type": "code",
   "execution_count": 1,
   "id": "51308819",
   "metadata": {},
   "outputs": [],
   "source": [
    "import numpy as np\n",
    "import pandas as pd\n",
    "import matplotlib.pyplot as plt\n",
    "from sklearn.model_selection import train_test_split\n",
    "from xgboost import XGBRegressor\n",
    "from sklearn.preprocessing import LabelEncoder\n",
    "from sklearn.metrics import r2_score, mean_absolute_error\n",
    "from sklearn.model_selection import cross_val_score\n",
    "from sklearn.base import BaseEstimator, TransformerMixin\n",
    "from sklearn.pipeline import Pipeline\n"
   ]
  },
  {
   "cell_type": "code",
   "execution_count": 2,
   "id": "10cc8695",
   "metadata": {},
   "outputs": [],
   "source": [
    "Data = pd.read_csv('Datasets/Clean_data/Locality_Analyst.csv')"
   ]
  },
  {
   "cell_type": "code",
   "execution_count": 3,
   "id": "35139f36",
   "metadata": {},
   "outputs": [],
   "source": [
    "class CombineAttributesAdder(BaseEstimator,TransformerMixin):\n",
    "\n",
    "    def fit(self,X,y=None):\n",
    "        X = X.copy()\n",
    "        return self\n",
    "    \n",
    "    def transform(self,X):\n",
    "        X = X.copy()\n",
    "        X = X.sort_values(['Vùng',\"Năm\"])\n",
    "        X['prev_density'] = X.groupby('Vùng')['Mật độ dân số (Người/km2)'].shift(1)\n",
    "        X['growth_density'] = X.groupby('Vùng')['Mật độ dân số (Người/km2)'].pct_change()\n",
    "\n",
    "        return X.reset_index(drop=True)\n",
    "    \n",
    "class StrEncoding (BaseEstimator,TransformerMixin):\n",
    "    def __init__(self):\n",
    "        self.le_region = LabelEncoder()\n",
    "        self.le_area = LabelEncoder()\n",
    "\n",
    "    def fit(self,X,y=None):\n",
    "        X = X.copy()\n",
    "        self.le_region.fit(X['Vùng'])\n",
    "        self.le_area.fit(X['Khu vực'])\n",
    "        return self\n",
    "\n",
    "    def transform(self,X):\n",
    "        X = X.copy()\n",
    "        X['Vùng'] = self.le_region.fit_transform(X['Vùng'])\n",
    "        X['Khu vực'] = self.le_area.fit_transform(X['Khu vực'])\n",
    "        return X\n",
    "    \n",
    "\n",
    "\n",
    "num_pipeline = Pipeline([\n",
    "    ('Labelencode',StrEncoding()),\n",
    "    ('attribs_adder',CombineAttributesAdder())\n",
    "])\n",
    "    "
   ]
  },
  {
   "cell_type": "code",
   "execution_count": 4,
   "id": "1381dc4b",
   "metadata": {},
   "outputs": [],
   "source": [
    "class XGBModel:\n",
    "    def __init__(self,region_name,features):\n",
    "        self.region = region_name\n",
    "        self.features = features\n",
    "        self.XGBmodel = XGBRegressor(\n",
    "            n_estimators = 500,\n",
    "            learning_rate = 0.05,\n",
    "            max_depth = 6,\n",
    "            subsample = 0.8,\n",
    "            colsample_bytree = 0.8,\n",
    "            random_state = 42\n",
    "        )\n",
    "\n",
    "    def get_data(self):\n",
    "        if self.region == 'All': return num_pipeline.fit_transform(Data)\n",
    "        return num_pipeline.fit_transform(Data[Data['Vùng'] == self.region])\n",
    "    \n",
    "    def data_splits(self,data):\n",
    "        train = data[data['Năm'] <= 2021]\n",
    "        test = data[data['Năm'] > 2021]\n",
    "\n",
    "        return train[self.features], train['Tổng dân số'], test[self.features], test['Tổng dân số']\n",
    "    \n",
    "\n",
    "    def train_XGBoost_model(self):\n",
    "        df = self.get_data()\n",
    "        X_train,y_train, X_test,y_test = self.data_splits(df)\n",
    "        self.XGBmodel.fit(X_train,y_train)\n",
    "        y_pred = self.XGBmodel.predict(X_test)\n",
    "\n",
    "        return pd.DataFrame(np.column_stack([y_pred,y_test]),columns=['y_pred','y_test']).to_csv(f'Result/Test_set/XGBModel/{self.region}_predict_result.csv')\n",
    "\n",
    "    def CrossValScore(self,scoring):\n",
    "        X = num_pipeline.fit_transform(Data)\n",
    "        prepared = X[self.features]\n",
    "        label = X['Tổng dân số']\n",
    "        return cross_val_score(self.XGBmodel,prepared,label,scoring=scoring,cv=5)    \n"
   ]
  },
  {
   "cell_type": "code",
   "execution_count": 7,
   "id": "8ab8cb82",
   "metadata": {},
   "outputs": [
    {
     "data": {
      "text/plain": [
       "Index(['Vùng', 'Năm', 'Diện tích(Km2)', 'Dân số trung bình (Nghìn người)',\n",
       "       'Mật độ dân số (Người/km2)', 'Tổng dân số', 'Nam', 'Nữ',\n",
       "       'Tổng dân số thành thị', 'Tổng dân số nông thôn', 'Tỷ suất sinh thô',\n",
       "       'Tỷ suất chết thô', 'Tỷ lệ tăng tự nhiên', 'Tỷ suất nhập cư',\n",
       "       'Tỷ suất xuất cư', 'Tỷ suất di cư thuần', 'Tỷ số giới tính', 'Khu vực',\n",
       "       'Tỉ lệ thất nghiệp', 'Tỉ lệ thất nghiệp ở thành thị',\n",
       "       'Tỉ lệ thất nghiệp ở nông thôn', 'Phần trăm dân số'],\n",
       "      dtype='object')"
      ]
     },
     "execution_count": 7,
     "metadata": {},
     "output_type": "execute_result"
    }
   ],
   "source": [
    "Data.columns"
   ]
  },
  {
   "cell_type": "code",
   "execution_count": 8,
   "id": "83896422",
   "metadata": {},
   "outputs": [],
   "source": [
    "features = ['Vùng', 'Năm', 'Diện tích(Km2)', 'Dân số trung bình (Nghìn người)',\n",
    "       'Mật độ dân số (Người/km2)','Nam', 'Nữ',\n",
    "       'Tổng dân số thành thị', 'Tổng dân số nông thôn', 'Tỷ suất sinh thô',\n",
    "       'Tỷ suất chết thô', 'Tỷ lệ tăng tự nhiên', 'Tỷ suất nhập cư',\n",
    "       'Tỷ suất xuất cư', 'Tỷ suất di cư thuần', 'Tỷ số giới tính', 'Khu vực',\n",
    "       'Tỉ lệ thất nghiệp', 'Tỉ lệ thất nghiệp ở thành thị',\n",
    "       'Tỉ lệ thất nghiệp ở nông thôn', 'Phần trăm dân số']"
   ]
  },
  {
   "cell_type": "code",
   "execution_count": 9,
   "id": "87804a70",
   "metadata": {},
   "outputs": [
    {
     "data": {
      "text/plain": [
       "array([0.94732175, 0.9476873 , 0.99812334, 0.98676983, 0.99443233])"
      ]
     },
     "execution_count": 9,
     "metadata": {},
     "output_type": "execute_result"
    }
   ],
   "source": [
    "PredictModel = XGBModel('Hà Nội',features)\n",
    "PredictModel.train_XGBoost_model()\n",
    "PredictModel.CrossValScore('r2')"
   ]
  }
 ],
 "metadata": {
  "kernelspec": {
   "display_name": "Python 3",
   "language": "python",
   "name": "python3"
  },
  "language_info": {
   "codemirror_mode": {
    "name": "ipython",
    "version": 3
   },
   "file_extension": ".py",
   "mimetype": "text/x-python",
   "name": "python",
   "nbconvert_exporter": "python",
   "pygments_lexer": "ipython3",
   "version": "3.12.4"
  }
 },
 "nbformat": 4,
 "nbformat_minor": 5
}
