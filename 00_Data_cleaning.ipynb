{
 "cells": [
  {
   "cell_type": "code",
   "execution_count": 1,
   "id": "7c784650",
   "metadata": {},
   "outputs": [],
   "source": [
    "import numpy as np\n",
    "import pandas as pd\n",
    "import matplotlib.pyplot as plt\n",
    "import os as os"
   ]
  },
  {
   "cell_type": "markdown",
   "id": "1d2d5828",
   "metadata": {},
   "source": [
    "DƯ LIỆU VỀ Diện tích, dân số và mật độ dân số phân theo địa phương"
   ]
  },
  {
   "cell_type": "code",
   "execution_count": 2,
   "id": "09b873e9",
   "metadata": {},
   "outputs": [],
   "source": [
    "raw_data = pd.read_excel('Datasets/Crawl_data/data.xlsx')\n",
    "def formatting(i): # dong muon format\n",
    "    row = raw_data.iloc[i] # du lieu tai dong do 2011 -> 2024\n",
    "    year_data = [] # co du lieu tai cac nam do\n",
    "    cnt = 0\n",
    "    for i in range(1,42,3): # 1 -> 42\n",
    "        if 2011 + cnt < 2025:\n",
    "            a = [row[f'{2011 + cnt}']] # a = [row['2011']] \n",
    "        else: break\n",
    "        cnt += 1\n",
    "        for j in range(1,3):\n",
    "            a.append(row[f'Unnamed: {i+j}']) # a = []\n",
    "        year_data.append(a) # year = [data 2011] index = 0\n",
    "    region = row['Unnamed: 0'] # string -> list\n",
    "    years = range(2011,2011+len(year_data)) #\n",
    "    index = pd.MultiIndex.from_product(\n",
    "        [[region],years],names = ['Vùng','Năm'] # dat ten columns\n",
    "    )\n",
    "    return pd.DataFrame(year_data,index=index,columns = list('abc'))\n",
    "Raw_data = formatting(1)\n",
    "for i in range(2,71):\n",
    "    Raw_data = pd.concat([Raw_data,formatting(i)])\n",
    "Raw_data = Raw_data.rename(columns={'a': 'Diện tích(Km2)','b':'Dân số trung bình (Nghìn người)','c':'Mật độ dân số (Người/km2)'})\n",
    "Raw_data.to_excel('Datasets/Raw_data/Area_population_density.xlsx')"
   ]
  },
  {
   "cell_type": "markdown",
   "id": "3338f4d2",
   "metadata": {},
   "source": [
    "Dữ liệu về Dân số trung bình phân theo địa phương, giới tính và thành thị nông thôn"
   ]
  },
  {
   "cell_type": "code",
   "execution_count": 3,
   "id": "124cd6ca",
   "metadata": {},
   "outputs": [
    {
     "name": "stderr",
     "output_type": "stream",
     "text": [
      "C:\\Users\\Admin\\AppData\\Local\\Temp\\ipykernel_2100\\555582010.py:29: FutureWarning: DataFrame.fillna with 'method' is deprecated and will raise in a future version. Use obj.ffill() or obj.bfill() instead.\n",
      "  Raw_data_2 = Raw_data_2.fillna(method='ffill')\n",
      "C:\\Users\\Admin\\AppData\\Local\\Temp\\ipykernel_2100\\555582010.py:29: FutureWarning: Downcasting object dtype arrays on .fillna, .ffill, .bfill is deprecated and will change in a future version. Call result.infer_objects(copy=False) instead. To opt-in to the future behavior, set `pd.set_option('future.no_silent_downcasting', True)`\n",
      "  Raw_data_2 = Raw_data_2.fillna(method='ffill')\n"
     ]
    }
   ],
   "source": [
    "raw_data = pd.read_excel('Datasets/Crawl_data/Data_02.xlsx',engine='openpyxl')\n",
    "def get_data(str1,str2,row):\n",
    "    if str2 == 'end':\n",
    "        return np.array([data for data in row[str1:]])\n",
    "    cols = row.index\n",
    "    start = cols.get_loc(str1)\n",
    "    end = cols.get_loc(str2)\n",
    "    return row.iloc[start:end].to_numpy()\n",
    "def formatting_2(i):\n",
    "    row = raw_data.iloc[i]\n",
    "    \n",
    "    sum_data = get_data('Tổng số','Nam',row)\n",
    "    man_data = get_data('Nam','Nữ',row)\n",
    "    woman_data = get_data('Nữ','Thành thị',row)\n",
    "    city_data = get_data('Thành thị','Nông thôn',row)\n",
    "    rural_data = get_data('Nông thôn','end',row)\n",
    "\n",
    "    year_data = np.column_stack((sum_data,man_data,woman_data,city_data,rural_data))\n",
    "    \n",
    "    year = [i for i in range(2011,2025)]\n",
    "    region = row['Vùng']\n",
    "    \n",
    "    index = pd.MultiIndex.from_product([[region],year],names=['Vùng','Năm'])\n",
    "    return pd.DataFrame(year_data,index=index,columns=list('abcde'))\n",
    "\n",
    "Raw_data_2 = formatting_2(1)\n",
    "for i in range(2,71):\n",
    "    Raw_data_2 = pd.concat([Raw_data_2,formatting_2(i)])\n",
    "Raw_data_2 = Raw_data_2.fillna(method='ffill')\n",
    "Raw_data_2 = Raw_data_2.rename(columns={'a': 'Tổng số', 'b': 'Nam', 'c': 'Nữ','d':'Tổng dân số thành thị','e':'Tổng dân số nông thôn'})\n",
    "Raw_data_2.to_excel('Datasets/Raw_data/Average_population_by_sex_urban_rural_residence.xlsx')"
   ]
  },
  {
   "cell_type": "markdown",
   "id": "213a6132",
   "metadata": {},
   "source": [
    "Data_05"
   ]
  },
  {
   "cell_type": "code",
   "execution_count": 4,
   "id": "ec815481",
   "metadata": {},
   "outputs": [
    {
     "name": "stderr",
     "output_type": "stream",
     "text": [
      "C:\\Users\\Admin\\AppData\\Local\\Temp\\ipykernel_2100\\1795997561.py:26: FutureWarning: The behavior of DataFrame concatenation with empty or all-NA entries is deprecated. In a future version, this will no longer exclude empty or all-NA columns when determining the result dtypes. To retain the old behavior, exclude the relevant entries before the concat operation.\n",
      "  formatted_data_05 = pd.concat([formatted_data_05, formatting_data_05(i)], ignore_index=True)\n"
     ]
    }
   ],
   "source": [
    "raw_data_05 = pd.read_excel('Datasets/Crawl_data/Data_05.xlsx')\n",
    "\n",
    "def formatting_data_05(i):\n",
    "    \"\"\"Format one region's data row into long format like 'Sex_ratio_locality_true'\"\"\"\n",
    "    row = raw_data_05.loc[i]\n",
    "    region = row['Unnamed: 0']\n",
    "\n",
    "    # --- Collect all yearly data ---\n",
    "    year_data = []\n",
    "    for col in row.index[1:]:\n",
    "        # Extract only valid numeric year columns\n",
    "        year_str = str(col)\n",
    "        year = ''.join(filter(str.isdigit, year_str))\n",
    "        if year.isdigit():\n",
    "            value = row[col]\n",
    "            if pd.notna(value) and value != '..':  # Skip missing or placeholder\n",
    "                year_data.append([region, int(year), float(value)])\n",
    "\n",
    "    # Convert to DataFrame for that region\n",
    "    return pd.DataFrame(year_data, columns=['Vùng', 'Năm', 'Tỷ lệ nam nữ'])\n",
    "\n",
    "\n",
    "# === COMBINE ALL REGIONS ===\n",
    "formatted_data_05 = formatting_data_05(0)\n",
    "for i in range(1, len(raw_data_05)):\n",
    "    formatted_data_05 = pd.concat([formatted_data_05, formatting_data_05(i)], ignore_index=True)\n",
    "\n",
    "# === OUTPUT ===\n",
    "formatted_data_05.reset_index(drop=True, inplace=True)\n",
    "formatted_data_05.to_excel('Datasets/Raw_data/Sex_ratio_locality.xlsx', index=False)\n"
   ]
  },
  {
   "cell_type": "markdown",
   "id": "d4e7ec21",
   "metadata": {},
   "source": [
    "Data_08"
   ]
  },
  {
   "cell_type": "code",
   "execution_count": 5,
   "id": "c2ac1f93",
   "metadata": {},
   "outputs": [],
   "source": [
    "raw_data_08 = pd.read_excel('Datasets/Crawl_data/Data_08.xlsx')\n",
    "def formatting_data_08(i):\n",
    "    row = raw_data_08.loc[i]\n",
    "    year_data = []\n",
    "    Crude_birth_rate = get_data('Tỷ suất sinh thô','Tỷ suất chết thô',row)\n",
    "    Crude_death_rate = get_data('Tỷ suất chết thô','Tỷ lệ tăng tự nhiên',row)\n",
    "    Natural_birht_rate = get_data('Tỷ lệ tăng tự nhiên','end',row)\n",
    "    \n",
    "    year_data = np.column_stack([Crude_birth_rate,Crude_death_rate,Natural_birht_rate])\n",
    "    year = [i for i in range(2011,2025)]\n",
    "    region = row['Unnamed: 0']\n",
    "    \n",
    "    index = pd.MultiIndex.from_product([[region],year],names=['Vùng','Năm'])\n",
    "    return pd.DataFrame(year_data,index=index,columns=list(['Tỷ suất sinh thô','Tỷ suất chết thô','Tỷ lệ tăng tự nhiên']))\n",
    "data_08 = formatting_data_08(1)\n",
    "for i in range(2,71):\n",
    "    data_08 = pd.concat([data_08,formatting_data_08(i)])\n",
    "data_08.to_excel('Datasets/Raw_data/Crude_birth_death_rate_natural_growth_rate_locality.xlsx')\n",
    "    "
   ]
  },
  {
   "cell_type": "markdown",
   "id": "87ba7b47",
   "metadata": {},
   "source": [
    "Data 15"
   ]
  },
  {
   "cell_type": "code",
   "execution_count": 6,
   "id": "b82555c8",
   "metadata": {},
   "outputs": [],
   "source": [
    "raw_data_15 = pd.read_excel('Datasets/Crawl_data/Data_15.xlsx')\n",
    "def get_data(str1,str2,row):\n",
    "    if str2 == 'end':\n",
    "        return np.array([data for data in row[str1:]])\n",
    "    cols = row.index\n",
    "    start = cols.get_loc(str1)\n",
    "    end = cols.get_loc(str2)\n",
    "    return row.iloc[start:end].to_numpy()\n",
    "def formatting_data_15(i):\n",
    "    row = raw_data_15.loc[i]\n",
    "    year_data = []\n",
    "    a = get_data('Tỷ suất nhập cư','Tỷ suất xuất cư',row)\n",
    "    b = get_data('Tỷ suất xuất cư','Tỷ suất di cư thuần',row)\n",
    "    c = get_data('Tỷ suất di cư thuần','end',row)\n",
    "   \n",
    "    year_data = np.column_stack([a,b,c])\n",
    "    year = [i for i in range(2011,2025)]\n",
    "    region = row['Unnamed: 0']\n",
    "    \n",
    "    index = pd.MultiIndex.from_product([[region],year],names=['Vùng','Năm'])\n",
    "    return pd.DataFrame(year_data,index=index,columns=list(['Tỷ suất nhập cư','Tỷ suất nhập cư','Tỷ suất di cư thuần']))\n",
    "formatting_data_15(1)\n",
    "data_15 = formatting_data_15(1)\n",
    "for i in range(2,71):\n",
    "    data_15 = pd.concat([data_15,formatting_data_15(i)])\n",
    "data_15.to_excel('Datasets/Raw_data/Immigration_emigration_net_migration_rates_locality.xlsx')\n"
   ]
  },
  {
   "cell_type": "markdown",
   "id": "1533f876",
   "metadata": {},
   "source": [
    "Data 25\n",
    "\n"
   ]
  },
  {
   "cell_type": "code",
   "execution_count": null,
   "id": "d49e8073",
   "metadata": {},
   "outputs": [],
   "source": [
    "raw_data_25 = pd.read_excel('Datasets/Crawl_data/Data_25_test.xlsx')"
   ]
  },
  {
   "cell_type": "code",
   "execution_count": 8,
   "id": "1b56f175",
   "metadata": {},
   "outputs": [],
   "source": [
    "raw_data_25.to_excel('Datasets/Raw_data/Unemployed_Data.xlsx',index=False)"
   ]
  }
 ],
 "metadata": {
  "kernelspec": {
   "display_name": "Python 3",
   "language": "python",
   "name": "python3"
  },
  "language_info": {
   "codemirror_mode": {
    "name": "ipython",
    "version": 3
   },
   "file_extension": ".py",
   "mimetype": "text/x-python",
   "name": "python",
   "nbconvert_exporter": "python",
   "pygments_lexer": "ipython3",
   "version": "3.12.4"
  }
 },
 "nbformat": 4,
 "nbformat_minor": 5
}
