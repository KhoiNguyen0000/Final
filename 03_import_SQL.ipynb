{
 "cells": [
  {
   "cell_type": "code",
   "execution_count": 1,
   "id": "b0344037",
   "metadata": {},
   "outputs": [],
   "source": [
    "import pyodbc as odbc\n",
    "import pandas as pd\n",
    "from USER import DRIVERS,SERVER,DATABASE\n",
    "import numpy as np"
   ]
  },
  {
   "cell_type": "markdown",
   "id": "ce798af1",
   "metadata": {},
   "source": [
    "KHỞI TẠO KẾT NỐI VỚI SQL SERVER"
   ]
  },
  {
   "cell_type": "code",
   "execution_count": 2,
   "id": "709ac685",
   "metadata": {},
   "outputs": [],
   "source": [
    "conn_str = f\"\"\"\n",
    "    DRIVER={DRIVERS};\n",
    "    SERVER={SERVER};\n",
    "    DATABASE={DATABASE};\n",
    "    Trusted_Connection=yes;\n",
    "    UID=sa;\n",
    "    PWD=123456;\n",
    "\"\"\"\n",
    "\n",
    "conn = odbc.connect(conn_str)"
   ]
  },
  {
   "cell_type": "code",
   "execution_count": 3,
   "id": "b5fe6902",
   "metadata": {},
   "outputs": [],
   "source": [
    "cursor = conn.cursor()"
   ]
  },
  {
   "cell_type": "markdown",
   "id": "54cf2a45",
   "metadata": {},
   "source": [
    "NHẬP DỮ LIỆU VỀ ĐỊA PHƯƠNG VÀO SQL SERVER"
   ]
  },
  {
   "cell_type": "code",
   "execution_count": 4,
   "id": "76bc65e2",
   "metadata": {},
   "outputs": [],
   "source": [
    "data = pd.read_excel('Datasets/Clean_data/Merge_locality_data.xlsx')"
   ]
  },
  {
   "cell_type": "code",
   "execution_count": 5,
   "id": "e152a4a8",
   "metadata": {},
   "outputs": [
    {
     "data": {
      "text/plain": [
       "Index(['Vùng', 'Năm', 'Tỷ lệ nam nữ', 'Tổng số', 'Nam', 'Nữ',\n",
       "       'Tổng dân số thành thị', 'Tổng dân số nông thôn', 'Diện tích(Km2)',\n",
       "       'Dân số trung bình (Nghìn người)', 'Mật độ dân số (Người/km2)',\n",
       "       'Tỷ suất sinh thô', 'Tỷ suất chết thô', 'Tỷ lệ tăng tự nhiên',\n",
       "       'Tỷ suất nhập cư', 'Tỷ suất xuất cư', 'Tỷ suất di cư thuần'],\n",
       "      dtype='object')"
      ]
     },
     "execution_count": 5,
     "metadata": {},
     "output_type": "execute_result"
    }
   ],
   "source": [
    "data.columns"
   ]
  },
  {
   "cell_type": "markdown",
   "id": "16689c1f",
   "metadata": {},
   "source": [
    "TẠO BẢNG LOCALITY_DATA TRÊN SQL"
   ]
  },
  {
   "cell_type": "code",
   "execution_count": 6,
   "id": "7864e6ec",
   "metadata": {},
   "outputs": [],
   "source": [
    "cursor = conn.cursor()\n",
    "cursor.execute(\"\"\"\n",
    "IF OBJECT_ID('dbo.Locality_data','U') IS NULL\n",
    "BEGIN\n",
    "    CREATE TABLE Locality_data (\n",
    "        region NVARCHAR(100) NULL,\n",
    "        year INT NULL,\n",
    "        sex_ratio FLOAT NULL,\n",
    "        total_population FLOAT NULL,\n",
    "        male_population FLOAT NULL,\n",
    "        female_population FLOAT NULL,\n",
    "        urban_population FLOAT NULL,\n",
    "        rural_population FLOAT NULL,\n",
    "        area_km2 FLOAT NULL,\n",
    "        avg_population_thousand FLOAT NULL,\n",
    "        population_density FLOAT NULL,\n",
    "        crude_birth_rate FLOAT NULL,\n",
    "        crude_death_rate FLOAT NULL,\n",
    "        natural_increase_rate FLOAT NULL,\n",
    "        immigration_rate FLOAT NULL,\n",
    "        emigration_rate FLOAT NULL,\n",
    "        net_migration_rate FLOAT NULL\n",
    "    );\n",
    "END\n",
    "\"\"\")\n",
    "\n",
    "conn.commit()\n",
    "cursor.close()\n"
   ]
  },
  {
   "cell_type": "markdown",
   "id": "f351d488",
   "metadata": {},
   "source": [
    "THỰC HIỆN ÉP KIỂU ĐỂ CÓ THỂ ĐƯA LÊN SQL SERVER"
   ]
  },
  {
   "cell_type": "code",
   "execution_count": 7,
   "id": "091e358f",
   "metadata": {},
   "outputs": [
    {
     "name": "stderr",
     "output_type": "stream",
     "text": [
      "C:\\Users\\Admin\\AppData\\Local\\Temp\\ipykernel_17984\\2890863432.py:1: FutureWarning: Downcasting behavior in `replace` is deprecated and will be removed in a future version. To retain the old behavior, explicitly call `result.infer_objects(copy=False)`. To opt-in to the future behavior, set `pd.set_option('future.no_silent_downcasting', True)`\n",
      "  data = data.replace('..',np.nan)\n"
     ]
    }
   ],
   "source": [
    "data = data.replace('..',np.nan)\n",
    "\n",
    "col = ['Tỷ lệ nam nữ', 'Tổng số', 'Nam', 'Nữ', 'Tổng dân số thành thị',\n",
    "       'Tổng dân số nông thôn', 'Diện tích(Km2)', 'Dân số trung bình (Nghìn người)',\n",
    "       'Mật độ dân số (Người/km2)', 'Tỷ suất sinh thô', 'Tỷ suất chết thô',\n",
    "       'Tỷ lệ tăng tự nhiên', 'Tỷ suất nhập cư', 'Tỷ suất xuất cư',\n",
    "       'Tỷ suất di cư thuần']\n",
    "\n",
    "data[col] = data[col].apply(pd.to_numeric,errors='coerce')\n",
    "\n",
    "data = data.replace(np.nan,None)\n",
    "data['Vùng'] = data['Vùng'].astype('string')"
   ]
  },
  {
   "cell_type": "markdown",
   "id": "927562ed",
   "metadata": {},
   "source": [
    "ĐƯA DỮ LIỆU VỀ ĐỊA PHƯƠNG LÊN SQL SERVER"
   ]
  },
  {
   "cell_type": "code",
   "execution_count": 8,
   "id": "2881745d",
   "metadata": {},
   "outputs": [],
   "source": [
    "cursor = conn.cursor()\n",
    "for index,row in data.iterrows():\n",
    "    cursor.execute(\"\"\"\n",
    "    INSERT INTO Locality_data (\n",
    "        region, year, sex_ratio, total_population, male_population, \n",
    "        female_population, urban_population, rural_population, \n",
    "        area_km2, avg_population_thousand, population_density, \n",
    "        crude_birth_rate, crude_death_rate, natural_increase_rate, \n",
    "        immigration_rate, emigration_rate, net_migration_rate\n",
    "    )\n",
    "    VALUES (?,?,?,?,?,?,?,?,?,?,?,?,?,?,?,?,?)\n",
    "    \"\"\",\n",
    "        row['Vùng'],\n",
    "        row['Năm'],\n",
    "        row['Tỷ lệ nam nữ'],\n",
    "        row['Tổng số'],\n",
    "        row['Nam'],\n",
    "        row['Nữ'],\n",
    "        row['Tổng dân số thành thị'],\n",
    "        row['Tổng dân số nông thôn'],\n",
    "        row['Diện tích(Km2)'],\n",
    "        row['Dân số trung bình (Nghìn người)'],\n",
    "        row['Mật độ dân số (Người/km2)'],\n",
    "        row['Tỷ suất sinh thô'],\n",
    "        row['Tỷ suất chết thô'],\n",
    "        row['Tỷ lệ tăng tự nhiên'],\n",
    "        row['Tỷ suất nhập cư'],\n",
    "        row['Tỷ suất xuất cư'],\n",
    "        row['Tỷ suất di cư thuần']\n",
    "    )\n",
    "\n",
    "conn.commit()\n",
    "cursor.close()"
   ]
  },
  {
   "cell_type": "markdown",
   "id": "b3c76824",
   "metadata": {},
   "source": [
    "NHẬP DỮ LIỆU VỀ THÀNH THỊ NÔNG THÔN VÀO SQL SERVER"
   ]
  },
  {
   "cell_type": "code",
   "execution_count": 9,
   "id": "63f070e5",
   "metadata": {},
   "outputs": [],
   "source": [
    "data2 = pd.read_excel('Datasets/Clean_data/Merge_urban_rural_data.xlsx')"
   ]
  },
  {
   "cell_type": "code",
   "execution_count": 10,
   "id": "463f76c1",
   "metadata": {},
   "outputs": [
    {
     "data": {
      "text/plain": [
       "Index(['Vùng', 'Năm', 'Tỷ số giới tính của dân số (Số nam/100 nữ)',\n",
       "       'Tỷ số giới tính khi sinh (Số bé trai/100 bé gái)', 'Life_Exp',\n",
       "       'Tỷ suất sinh thô', 'Tỷ suất chết thô', 'Tỷ lệ tăng tự nhiên'],\n",
       "      dtype='object')"
      ]
     },
     "execution_count": 10,
     "metadata": {},
     "output_type": "execute_result"
    }
   ],
   "source": [
    "data2.columns"
   ]
  },
  {
   "cell_type": "markdown",
   "id": "502214e1",
   "metadata": {},
   "source": [
    "TẠO BẢNG URBAN_RURAL_DATA TRÊN SQL SERVER"
   ]
  },
  {
   "cell_type": "code",
   "execution_count": 11,
   "id": "c72a305e",
   "metadata": {},
   "outputs": [],
   "source": [
    "cursor = conn.cursor()\n",
    "cursor.execute(\"\"\"\n",
    "    IF OBJECT_ID('dbo.Urban_rural_data','U') IS NULL\n",
    "    BEGIN\n",
    "        CREATE TABLE Urban_rural_data (\n",
    "            region NVARCHAR(100) NULL,\n",
    "            year INT NULL,\n",
    "            sex_ratio_population FLOAT NULL,\n",
    "            sex_ratio_birth FLOAT NULL,\n",
    "            life_expectancy FLOAT NULL,\n",
    "            crude_birth_rate FLOAT NULL,\n",
    "            crude_death_rate FLOAT NULL,\n",
    "            natural_increase_rate FLOAT NULL\n",
    "        );\n",
    "    END\n",
    "\"\"\")\n",
    "\n",
    "conn.commit()\n",
    "cursor.close()"
   ]
  },
  {
   "cell_type": "markdown",
   "id": "3e31ff68",
   "metadata": {},
   "source": [
    "ÉP KIỂU DỮ LIỆU ĐỂ CÓ THỂ ĐƯA LÊN SQL SERVER"
   ]
  },
  {
   "cell_type": "code",
   "execution_count": 12,
   "id": "b5a529dd",
   "metadata": {},
   "outputs": [
    {
     "name": "stderr",
     "output_type": "stream",
     "text": [
      "C:\\Users\\Admin\\AppData\\Local\\Temp\\ipykernel_17984\\3259959962.py:2: FutureWarning: Downcasting behavior in `replace` is deprecated and will be removed in a future version. To retain the old behavior, explicitly call `result.infer_objects(copy=False)`. To opt-in to the future behavior, set `pd.set_option('future.no_silent_downcasting', True)`\n",
      "  data2 = data2.replace(['..', '', ' '], np.nan)\n"
     ]
    }
   ],
   "source": [
    "data2['Vùng'] = data2['Vùng'].astype('string')\n",
    "data2 = data2.replace(['..', '', ' '], np.nan)\n",
    "\n",
    "num_cols = [\n",
    "    'Tỷ số giới tính của dân số (Số nam/100 nữ)',\n",
    "    'Tỷ số giới tính khi sinh (Số bé trai/100 bé gái)',\n",
    "    'Life_Exp',\n",
    "    'Tỷ suất sinh thô',\n",
    "    'Tỷ suất chết thô',\n",
    "    'Tỷ lệ tăng tự nhiên'\n",
    "]\n",
    "\n",
    "data2[num_cols] = data2[num_cols].apply(\n",
    "    lambda col: pd.to_numeric(col.astype(str).str.replace(',', '.'), errors='coerce')\n",
    ")\n",
    "\n",
    "data2 = data2.replace(np.nan, None)\n",
    "data2['Vùng'] = data2['Vùng'].astype('string')"
   ]
  },
  {
   "cell_type": "markdown",
   "id": "66088b24",
   "metadata": {},
   "source": [
    "ĐƯA DỮ LIỆU VỀ THÀNH THỊ NÔNG THÔN LÊN SQL SERVER"
   ]
  },
  {
   "cell_type": "code",
   "execution_count": 13,
   "id": "9be9e53c",
   "metadata": {},
   "outputs": [],
   "source": [
    "cursor = conn.cursor()\n",
    "\n",
    "for index,row in data2.iterrows():\n",
    "    cursor.execute(\"\"\"\n",
    "    INSERT INTO Urban_rural_data (\n",
    "            region, year, sex_ratio_population, sex_ratio_birth,\n",
    "            life_expectancy, crude_birth_rate, crude_death_rate, natural_increase_rate\n",
    "        )\n",
    "        VALUES (?,?,?,?,?,?,?,?)\n",
    "    \"\"\",\n",
    "        row['Vùng'],\n",
    "        row['Năm'],\n",
    "        row['Tỷ số giới tính của dân số (Số nam/100 nữ)'],\n",
    "        row['Tỷ số giới tính khi sinh (Số bé trai/100 bé gái)'],\n",
    "        row['Life_Exp'],\n",
    "        row['Tỷ suất sinh thô'],\n",
    "        row['Tỷ suất chết thô'],\n",
    "        row['Tỷ lệ tăng tự nhiên']  \n",
    "    )\n",
    "\n",
    "conn.commit()\n",
    "cursor.close()"
   ]
  },
  {
   "cell_type": "markdown",
   "id": "824acab5",
   "metadata": {},
   "source": [
    "NHẬP DỮ LIỆU VỀ THẤT NGHIỆP VÀO SQL SERVER"
   ]
  },
  {
   "cell_type": "code",
   "execution_count": 14,
   "id": "cc568aa5",
   "metadata": {},
   "outputs": [],
   "source": [
    "data3 = pd.read_excel('Datasets/Clean_data/Unemployed_data.xlsx')"
   ]
  },
  {
   "cell_type": "markdown",
   "id": "a7823d8e",
   "metadata": {},
   "source": [
    "TẠO BẢNG UNEMPLOYED_DATA TRÊN SQL SERVER"
   ]
  },
  {
   "cell_type": "code",
   "execution_count": 15,
   "id": "415fbaf7",
   "metadata": {},
   "outputs": [],
   "source": [
    "cursor = conn.cursor()\n",
    "cursor.execute('''\n",
    "    IF OBJECT_ID('dbo.Unemployed','U') IS NULL\n",
    "    BEGIN\n",
    "        CREATE TABLE Unemployed_Data (\n",
    "            Region nvarchar(100),\t\n",
    "            Year INT,\n",
    "            Area nvarchar(100),\n",
    "            Total FLOAT,\n",
    "            Urban FLOAT,\n",
    "            Rural FLOAT,\n",
    "        )\n",
    "    END\n",
    "''')\n",
    "\n",
    "conn.commit()"
   ]
  },
  {
   "cell_type": "markdown",
   "id": "e64b93b4",
   "metadata": {},
   "source": [
    "ÉP KIỂU DỮ LIỆU ĐỂ CÓ THỂ ĐƯA LÊN SQL SERVER"
   ]
  },
  {
   "cell_type": "code",
   "execution_count": 16,
   "id": "f7c5c317",
   "metadata": {},
   "outputs": [],
   "source": [
    "cols = ['Tổng số','Thành thị','Nông thôn']\n",
    "\n",
    "data3[cols] = data3[cols].apply(pd.to_numeric,errors='coerce')\n",
    "data3['Vùng'] = data3['Vùng'].astype('string')\n",
    "data3['Khu vực'] = data3['Khu vực'].astype('string')"
   ]
  },
  {
   "cell_type": "markdown",
   "id": "ad6cb08a",
   "metadata": {},
   "source": [
    "ĐƯA DỮ LIỆU VỀ THẤT NGHIỆP LÊN SQL SERVER"
   ]
  },
  {
   "cell_type": "code",
   "execution_count": 17,
   "id": "2e82ae2d",
   "metadata": {},
   "outputs": [],
   "source": [
    "cursor = conn.cursor()\n",
    "for index,row in data3.iterrows():\n",
    "    cursor.execute(\"\"\"\n",
    "        INSERT INTO Unemployed_data (\n",
    "            Region,Year,Area,Total,Urban,Rural) \n",
    "        VALUES(?,?,?,?,?,?)\n",
    "        \"\"\",\n",
    "        row['Vùng'],\n",
    "        row['Năm'],\n",
    "        row['Khu vực'],\n",
    "        row['Tổng số'],\n",
    "        row['Thành thị'],\n",
    "        row['Nông thôn']\n",
    "    )\n",
    "\n",
    "conn.commit()"
   ]
  }
 ],
 "metadata": {
  "kernelspec": {
   "display_name": "Python 3",
   "language": "python",
   "name": "python3"
  },
  "language_info": {
   "codemirror_mode": {
    "name": "ipython",
    "version": 3
   },
   "file_extension": ".py",
   "mimetype": "text/x-python",
   "name": "python",
   "nbconvert_exporter": "python",
   "pygments_lexer": "ipython3",
   "version": "3.12.4"
  }
 },
 "nbformat": 4,
 "nbformat_minor": 5
}
