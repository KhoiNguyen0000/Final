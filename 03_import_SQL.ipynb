{
 "cells": [
  {
   "cell_type": "code",
   "execution_count": 1,
   "id": "b0344037",
   "metadata": {},
   "outputs": [],
   "source": [
    "import pyodbc as odbc\n",
    "import pandas as pd\n",
    "from USER import DRIVERS,SERVER,DATABASE\n",
    "import numpy as np"
   ]
  },
  {
   "cell_type": "markdown",
   "id": "ce798af1",
   "metadata": {},
   "source": [
    "KHỞI TẠO KẾT NỐI VỚI SQL SERVER"
   ]
  },
  {
   "cell_type": "code",
   "execution_count": null,
   "id": "709ac685",
   "metadata": {},
   "outputs": [],
   "source": [
    "conn_str = f\"\"\"\n",
    "    DRIVER={DRIVERS};\n",
    "    SERVER={SERVER};\n",
    "    DATABASE={DATABASE};\n",
    "    Trusted_Connection=yes;\n",
    "\"\"\"\n",
    "\n",
    "conn = odbc.connect(conn_str)"
   ]
  },
  {
   "cell_type": "code",
   "execution_count": 3,
   "id": "b5fe6902",
   "metadata": {},
   "outputs": [],
   "source": [
    "cursor = conn.cursor()"
   ]
  },
  {
   "cell_type": "markdown",
   "id": "54cf2a45",
   "metadata": {},
   "source": [
    "NHẬP DỮ LIỆU VỀ ĐỊA PHƯƠNG VÀO SQL SERVER"
   ]
  },
  {
   "cell_type": "code",
   "execution_count": 4,
   "id": "76bc65e2",
   "metadata": {},
   "outputs": [],
   "source": [
    "data = pd.read_csv('Datasets/Clean_data/Locality_Analyst.csv')"
   ]
  },
  {
   "cell_type": "markdown",
   "id": "16689c1f",
   "metadata": {},
   "source": [
    "TẠO BẢNG LOCALITY_DATA TRÊN SQL"
   ]
  },
  {
   "cell_type": "code",
   "execution_count": 5,
   "id": "e152a4a8",
   "metadata": {},
   "outputs": [
    {
     "data": {
      "text/plain": [
       "Index(['Vùng', 'Năm', 'Diện tích(Km2)', 'Dân số trung bình (Nghìn người)',\n",
       "       'Mật độ dân số (Người/km2)', 'Tổng dân số', 'Nam', 'Nữ',\n",
       "       'Tổng dân số thành thị', 'Tổng dân số nông thôn', 'Tỷ suất sinh thô',\n",
       "       'Tỷ suất chết thô', 'Tỷ lệ tăng tự nhiên', 'Tỷ suất nhập cư',\n",
       "       'Tỷ suất xuất cư', 'Tỷ suất di cư thuần', 'Tỷ số giới tính', 'Khu vực',\n",
       "       'Tỉ lệ thất nghiệp', 'Tỉ lệ thất nghiệp ở thành thị',\n",
       "       'Tỉ lệ thất nghiệp ở nông thôn', 'Phần trăm dân số'],\n",
       "      dtype='object')"
      ]
     },
     "execution_count": 5,
     "metadata": {},
     "output_type": "execute_result"
    }
   ],
   "source": [
    "data.columns"
   ]
  },
  {
   "cell_type": "code",
   "execution_count": null,
   "id": "7864e6ec",
   "metadata": {},
   "outputs": [],
   "source": [
    "cursor = conn.cursor()\n",
    "cursor.execute(\"\"\"\n",
    "    IF OBJECT_ID('dbo.population_data', 'U') IS NOT NULL\n",
    "        DROP TABLE dbo.population_data;\n",
    "\n",
    "    CREATE TABLE dbo.population_data (\n",
    "        region NVARCHAR(100),\n",
    "        year INT,\n",
    "        area_km2 FLOAT,\n",
    "        avg_population_thousand FLOAT,\n",
    "        population_density FLOAT,\n",
    "        total_population FLOAT,\n",
    "        male FLOAT,\n",
    "        female FLOAT,\n",
    "        urban_population FLOAT,\n",
    "        rural_population FLOAT,\n",
    "        crude_birth_rate FLOAT,\n",
    "        crude_death_rate FLOAT,\n",
    "        natural_growth_rate FLOAT,\n",
    "        immigration_rate FLOAT,\n",
    "        emigration_rate FLOAT,\n",
    "        net_migration_rate FLOAT,\n",
    "        sex_ratio FLOAT,\n",
    "        area_type NVARCHAR(100),\n",
    "        unemployment_rate FLOAT,\n",
    "        urban_unemployment_rate FLOAT,\n",
    "        rural_unemployment_rate FLOAT,\n",
    "        population_percentage FLOAT\n",
    "    );\n",
    "\"\"\")\n",
    "\n",
    "conn.commit()\n",
    "cursor.close()\n"
   ]
  },
  {
   "cell_type": "markdown",
   "id": "f351d488",
   "metadata": {},
   "source": [
    "THỰC HIỆN ÉP KIỂU ĐỂ CÓ THỂ ĐƯA LÊN SQL SERVER"
   ]
  },
  {
   "cell_type": "code",
   "execution_count": 7,
   "id": "091e358f",
   "metadata": {},
   "outputs": [],
   "source": [
    "data = data.replace('..',np.nan)\n",
    "\n",
    "col = ['Năm', 'Diện tích(Km2)', 'Dân số trung bình (Nghìn người)',\n",
    "       'Mật độ dân số (Người/km2)', 'Tổng dân số', 'Nam', 'Nữ',\n",
    "       'Tổng dân số thành thị', 'Tổng dân số nông thôn', 'Tỷ suất sinh thô',\n",
    "       'Tỷ suất chết thô', 'Tỷ lệ tăng tự nhiên', 'Tỷ suất nhập cư',\n",
    "       'Tỷ suất xuất cư', 'Tỷ suất di cư thuần', 'Tỷ số giới tính',\n",
    "       'Tỉ lệ thất nghiệp', 'Tỉ lệ thất nghiệp ở thành thị',\n",
    "       'Tỉ lệ thất nghiệp ở nông thôn', 'Phần trăm dân số']\n",
    "\n",
    "data[col] = data[col].apply(pd.to_numeric,errors='coerce')\n",
    "\n",
    "data = data.replace(np.nan,None)\n",
    "data['Vùng'] = data['Vùng'].astype('string')"
   ]
  },
  {
   "cell_type": "markdown",
   "id": "927562ed",
   "metadata": {},
   "source": [
    "ĐƯA DỮ LIỆU VỀ ĐỊA PHƯƠNG LÊN SQL SERVER"
   ]
  },
  {
   "cell_type": "code",
   "execution_count": 8,
   "id": "2881745d",
   "metadata": {},
   "outputs": [],
   "source": [
    "cursor = conn.cursor()\n",
    "for index, row in data.iterrows():\n",
    "    cursor.execute(\"\"\"\n",
    "        INSERT INTO Population_Data (\n",
    "            region, year, area_km2, avg_population_thousand,\n",
    "            population_density, total_population, male, female,\n",
    "            urban_population, rural_population, crude_birth_rate,\n",
    "            crude_death_rate, natural_growth_rate, immigration_rate,\n",
    "            emigration_rate, net_migration_rate, sex_ratio, area_type,\n",
    "            unemployment_rate, urban_unemployment_rate, rural_unemployment_rate,\n",
    "            population_percentage\n",
    "        )\n",
    "        VALUES (?, ?, ?, ?, ?, ?, ?, ?, ?, ?, ?, ?, ?, ?, ?, ?, ?, ?, ?, ?, ?, ?)\n",
    "    \"\"\", (\n",
    "        row['Vùng'],\n",
    "        row['Năm'],\n",
    "        row['Diện tích(Km2)'],\n",
    "        row['Dân số trung bình (Nghìn người)'],\n",
    "        row['Mật độ dân số (Người/km2)'],\n",
    "        row['Tổng dân số'],\n",
    "        row['Nam'],\n",
    "        row['Nữ'],\n",
    "        row['Tổng dân số thành thị'],\n",
    "        row['Tổng dân số nông thôn'],\n",
    "        row['Tỷ suất sinh thô'],\n",
    "        row['Tỷ suất chết thô'],\n",
    "        row['Tỷ lệ tăng tự nhiên'],\n",
    "        row['Tỷ suất nhập cư'],\n",
    "        row['Tỷ suất xuất cư'],\n",
    "        row['Tỷ suất di cư thuần'],\n",
    "        row['Tỷ số giới tính'],\n",
    "        row['Khu vực'],\n",
    "        row['Tỉ lệ thất nghiệp'],\n",
    "        row['Tỉ lệ thất nghiệp ở thành thị'],\n",
    "        row['Tỉ lệ thất nghiệp ở nông thôn'],\n",
    "        row['Phần trăm dân số']\n",
    "    ))\n",
    "\n",
    "\n",
    "conn.commit()\n",
    "cursor.close()"
   ]
  }
 ],
 "metadata": {
  "kernelspec": {
   "display_name": "Python 3",
   "language": "python",
   "name": "python3"
  },
  "language_info": {
   "codemirror_mode": {
    "name": "ipython",
    "version": 3
   },
   "file_extension": ".py",
   "mimetype": "text/x-python",
   "name": "python",
   "nbconvert_exporter": "python",
   "pygments_lexer": "ipython3",
   "version": "3.11.4"
  }
 },
 "nbformat": 4,
 "nbformat_minor": 5
}
