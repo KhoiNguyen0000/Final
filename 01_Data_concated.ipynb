{
 "cells": [
  {
   "cell_type": "code",
   "execution_count": 7,
   "id": "26cd62d2",
   "metadata": {},
   "outputs": [],
   "source": [
    "import pandas as pd\n",
    "import numpy as np"
   ]
  },
  {
   "cell_type": "markdown",
   "id": "3784c4f1",
   "metadata": {},
   "source": [
    "TRUYỀN DỮ LIỆU VÀO PANDAS"
   ]
  },
  {
   "cell_type": "code",
   "execution_count": 8,
   "id": "ffc8bd0d",
   "metadata": {},
   "outputs": [],
   "source": [
    "file_path = [r'Datasets/Raw_data/Area_population_population_density.xlsx',\n",
    "             r'Datasets/Raw_data/Average_population_by_sex_urban_rural_residence.xlsx',\n",
    "             r'Datasets/Raw_data/Crude_birth_death_rate_natural_growth_rate_locality.xlsx',\n",
    "             r'Datasets/Raw_data/Immigration_emigration_net_migration_rates_locality.xlsx',\n",
    "             r'Datasets/Raw_data/Sex_ratio_locality.xlsx',\n",
    "             r'Datasets/Raw_data/Unemployed_data.xlsx']\n",
    "\n",
    "\n",
    "df1 = pd.read_excel(file_path[0])\n",
    "df2 = pd.read_excel(file_path[1])\n",
    "df3 = pd.read_excel(file_path[2])\n",
    "df4 = pd.read_excel(file_path[3])\n",
    "df5 = pd.read_excel(file_path[4])\n",
    "df6 = pd.read_excel(file_path[5])\n"
   ]
  },
  {
   "cell_type": "markdown",
   "id": "d5e615a4",
   "metadata": {},
   "source": [
    "CÁC CỘT CỦA CÁC DATAFRAME"
   ]
  },
  {
   "cell_type": "code",
   "execution_count": 9,
   "id": "18806b1c",
   "metadata": {},
   "outputs": [
    {
     "data": {
      "text/plain": [
       "Index(['Vùng', 'Năm', 'Diện tích(Km2)', 'Dân số trung bình (Nghìn người)',\n",
       "       'Mật độ dân số (Người/km2)'],\n",
       "      dtype='object')"
      ]
     },
     "execution_count": 9,
     "metadata": {},
     "output_type": "execute_result"
    }
   ],
   "source": [
    "df1.columns"
   ]
  },
  {
   "cell_type": "code",
   "execution_count": 10,
   "id": "c4438de5",
   "metadata": {},
   "outputs": [
    {
     "data": {
      "text/plain": [
       "Index(['Vùng', 'Năm', 'Tổng số', 'Nam', 'Nữ', 'Tổng dân số thành thị',\n",
       "       'Tổng dân số nông thôn'],\n",
       "      dtype='object')"
      ]
     },
     "execution_count": 10,
     "metadata": {},
     "output_type": "execute_result"
    }
   ],
   "source": [
    "df2.columns"
   ]
  },
  {
   "cell_type": "code",
   "execution_count": 11,
   "id": "e89fa3d5",
   "metadata": {},
   "outputs": [
    {
     "data": {
      "text/plain": [
       "Index(['Vùng', 'Năm', 'Tỷ suất sinh thô', 'Tỷ suất chết thô',\n",
       "       'Tỷ lệ tăng tự nhiên'],\n",
       "      dtype='object')"
      ]
     },
     "execution_count": 11,
     "metadata": {},
     "output_type": "execute_result"
    }
   ],
   "source": [
    "df3.columns"
   ]
  },
  {
   "cell_type": "code",
   "execution_count": 12,
   "id": "229107c6",
   "metadata": {},
   "outputs": [
    {
     "data": {
      "text/plain": [
       "Index(['Vùng', 'Năm', 'Tỷ suất nhập cư', 'Tỷ suất xuất cư',\n",
       "       'Tỷ suất di cư thuần'],\n",
       "      dtype='object')"
      ]
     },
     "execution_count": 12,
     "metadata": {},
     "output_type": "execute_result"
    }
   ],
   "source": [
    "df4.columns"
   ]
  },
  {
   "cell_type": "code",
   "execution_count": 13,
   "id": "1e676140",
   "metadata": {},
   "outputs": [
    {
     "data": {
      "text/plain": [
       "Index(['Vùng', 'Năm', 'Tỷ lệ nam nữ'], dtype='object')"
      ]
     },
     "execution_count": 13,
     "metadata": {},
     "output_type": "execute_result"
    }
   ],
   "source": [
    "df5.columns"
   ]
  },
  {
   "cell_type": "code",
   "execution_count": 14,
   "id": "4a8f15c6",
   "metadata": {},
   "outputs": [
    {
     "data": {
      "text/plain": [
       "Index(['Vùng', 'Năm', 'Khu vực', 'Tổng số', 'Thành thị', 'Nông thôn'], dtype='object')"
      ]
     },
     "execution_count": 14,
     "metadata": {},
     "output_type": "execute_result"
    }
   ],
   "source": [
    "df6.columns"
   ]
  },
  {
   "cell_type": "markdown",
   "id": "83cff666",
   "metadata": {},
   "source": [
    "KẾT HỢP CÁC DATAFRAME LẠI VỚI NHAU DỰA TRÊN CỘT \"VÙNG\" VÀ \"NĂM\""
   ]
  },
  {
   "cell_type": "code",
   "execution_count": 15,
   "id": "e1e817bd",
   "metadata": {},
   "outputs": [],
   "source": [
    "data12 = pd.merge(df1,df2, on=['Vùng','Năm'])\n",
    "data34 = pd.merge(df3,df4, on=['Vùng','Năm'])\n",
    "data56 = pd.merge(df5,df6, on=['Vùng','Năm'])"
   ]
  },
  {
   "cell_type": "code",
   "execution_count": 16,
   "id": "33f8e12f",
   "metadata": {},
   "outputs": [],
   "source": [
    "semi_data = pd.merge(data12,data34, on=['Vùng','Năm'])\n",
    "full_data = pd.merge(semi_data,data56, on=['Vùng','Năm'])"
   ]
  },
  {
   "cell_type": "markdown",
   "id": "20fd5f77",
   "metadata": {},
   "source": [
    "ĐỔI TÊN MỘT SỐ CỘT BỊ TRÙNG"
   ]
  },
  {
   "cell_type": "code",
   "execution_count": 17,
   "id": "278ca803",
   "metadata": {},
   "outputs": [
    {
     "data": {
      "text/plain": [
       "Index(['Vùng', 'Năm', 'Diện tích(Km2)', 'Dân số trung bình (Nghìn người)',\n",
       "       'Mật độ dân số (Người/km2)', 'Tổng số_x', 'Nam', 'Nữ',\n",
       "       'Tổng dân số thành thị', 'Tổng dân số nông thôn', 'Tỷ suất sinh thô',\n",
       "       'Tỷ suất chết thô', 'Tỷ lệ tăng tự nhiên', 'Tỷ suất nhập cư',\n",
       "       'Tỷ suất xuất cư', 'Tỷ suất di cư thuần', 'Tỷ lệ nam nữ', 'Khu vực',\n",
       "       'Tổng số_y', 'Thành thị', 'Nông thôn'],\n",
       "      dtype='object')"
      ]
     },
     "execution_count": 17,
     "metadata": {},
     "output_type": "execute_result"
    }
   ],
   "source": [
    "full_data.columns"
   ]
  },
  {
   "cell_type": "code",
   "execution_count": 18,
   "id": "4f5ad871",
   "metadata": {},
   "outputs": [],
   "source": [
    "full_data = full_data.rename(columns={'Tổng số_x':'Tổng dân số',\n",
    "                          'Thành thị_x':'Tổng dân số thành thị',\n",
    "                          'Nông thôn_x':'Tổng dân số nông thôn',\n",
    "                          'Tổng số_y': 'Tỉ lệ thất nghiệp',     \n",
    "                          'Thành thị_y':'Tỉ lệ thất nghiệp ở thành thị',\n",
    "                          'Nông thôn_y':'Tỉ lệ thất nghiệp ở nông thôn'\n",
    "                        })"
   ]
  },
  {
   "cell_type": "markdown",
   "id": "6d7a520d",
   "metadata": {},
   "source": [
    "LOẠI BỎ DỮ LIỆU CÓ VÙNG LÀ CẢ NƯỚC VÀ CÁC KHU VỰC TRONG DỮ LIỆU CHỈ ĐỂ LẠI DỮ LIỆU VỀ 63 TỈNH THÀNH TỪ NĂM 2011-2024"
   ]
  },
  {
   "cell_type": "code",
   "execution_count": 19,
   "id": "1b63354a",
   "metadata": {},
   "outputs": [],
   "source": [
    "eliminate = ['CẢ NƯỚC',\n",
    "             'Đồng bằng sông Hồng',\n",
    "             'Trung du và miền núi phía Bắc',\n",
    "             'Bắc Trung Bộ và Duyên hải miền Trung',\n",
    "             'Tây Nguyên',\n",
    "             'Ðông Nam Bộ',\n",
    "             'Ðồng bằng sông Cửu Long']\n",
    "\n",
    "for region in eliminate:\n",
    "    full_data = full_data[full_data['Vùng'] != region ]"
   ]
  },
  {
   "cell_type": "markdown",
   "id": "b684d85c",
   "metadata": {},
   "source": [
    "LƯU DATA ĐÃ KẾT HỢP VÀ CHỈ CÒN LẠI 63 TỈNH THÀNH "
   ]
  },
  {
   "cell_type": "code",
   "execution_count": 20,
   "id": "2f011dcc",
   "metadata": {},
   "outputs": [],
   "source": [
    "full_data.to_csv('Datasets/Locality_Analyst.csv',encoding='utf-8-sig')"
   ]
  }
 ],
 "metadata": {
  "kernelspec": {
   "display_name": "Python 3",
   "language": "python",
   "name": "python3"
  },
  "language_info": {
   "codemirror_mode": {
    "name": "ipython",
    "version": 3
   },
   "file_extension": ".py",
   "mimetype": "text/x-python",
   "name": "python",
   "nbconvert_exporter": "python",
   "pygments_lexer": "ipython3",
   "version": "3.12.4"
  }
 },
 "nbformat": 4,
 "nbformat_minor": 5
}
